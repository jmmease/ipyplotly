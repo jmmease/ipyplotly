{
 "cells": [
  {
   "cell_type": "markdown",
   "metadata": {},
   "source": [
    "## Notebook Dashboard\n",
    "Example of a fairly complex dashboard. Initially inspired by a Dash tutorial example"
   ]
  },
  {
   "cell_type": "markdown",
   "metadata": {},
   "source": [
    "### Imports"
   ]
  },
  {
   "cell_type": "code",
   "execution_count": null,
   "metadata": {},
   "outputs": [],
   "source": [
    "# ipyplotly\n",
    "from ipyplotly.datatypes import FigureWidget\n",
    "from ipyplotly.callbacks import Points, InputState\n",
    "\n",
    "# pandas\n",
    "import pandas as pd\n",
    "from pandas.api.types import is_numeric_dtype\n",
    "\n",
    "# numpy\n",
    "import numpy as np\n",
    "\n",
    "# ipywidgets\n",
    "from ipywidgets import Dropdown, HBox, VBox"
   ]
  },
  {
   "cell_type": "code",
   "execution_count": null,
   "metadata": {},
   "outputs": [],
   "source": [
    "df = pd.read_csv('https://raw.githubusercontent.com/plotly/datasets/master/mtcars.csv')"
   ]
  },
  {
   "cell_type": "code",
   "execution_count": null,
   "metadata": {},
   "outputs": [],
   "source": [
    "numeric_cols = [col for col in df.columns if is_numeric_dtype(df[col])]\n",
    "numeric_cols"
   ]
  },
  {
   "cell_type": "code",
   "execution_count": null,
   "metadata": {},
   "outputs": [],
   "source": [
    "f = FigureWidget()\n",
    "f"
   ]
  },
  {
   "cell_type": "code",
   "execution_count": null,
   "metadata": {},
   "outputs": [],
   "source": [
    "bar = f.add_bar(y=df.manufacturer.values, orientation='h')"
   ]
  },
  {
   "cell_type": "code",
   "execution_count": null,
   "metadata": {},
   "outputs": [],
   "source": [
    "f.layout.margin.l = 120\n",
    "bar.marker.showscale = True\n",
    "bar.marker.colorscale = 'viridis'\n",
    "\n",
    "f.layout.width = 1100\n",
    "f.layout.height = 800\n",
    "bar.marker.line.width = 1\n",
    "bar.marker.line.color = 'darkgray'"
   ]
  },
  {
   "cell_type": "code",
   "execution_count": null,
   "metadata": {},
   "outputs": [],
   "source": [
    "trace, points, state = bar, Points(), InputState()\n",
    "\n",
    "# Bar click callback\n",
    "def update_click(trace, points, state):\n",
    "    new_clr = np.zeros(df['mpg'].size)\n",
    "    new_clr[points.point_inds] = 1\n",
    "    \n",
    "    bar_line_sizes = np.ones(df['mpg'].size)\n",
    "    bar_line_sizes[points.point_inds] = 3\n",
    "    \n",
    "    # Update pct line color\n",
    "    par.line.color = new_clr\n",
    "    \n",
    "    # Update bar line color and width\n",
    "    with f.batch_update():\n",
    "        bar.marker.line.width = bar_line_sizes \n",
    "        bar.marker.line.color = new_clr\n",
    "\n",
    "bar.on_click(update_click)\n",
    "bar.on_selected(update_click)"
   ]
  },
  {
   "cell_type": "code",
   "execution_count": null,
   "metadata": {},
   "outputs": [],
   "source": [
    "f2 = FigureWidget(layout={'width': 1100})\n",
    "f2"
   ]
  },
  {
   "cell_type": "code",
   "execution_count": null,
   "metadata": {},
   "outputs": [],
   "source": [
    "par = f2.add_parcoords(dimensions=[{\n",
    "    'values': df[col].values, \n",
    "    'label': col,\n",
    "    'range': [np.floor(df[col].min()), np.ceil(df[col].max())]} for col in numeric_cols])"
   ]
  },
  {
   "cell_type": "code",
   "execution_count": null,
   "metadata": {},
   "outputs": [],
   "source": [
    "# Set up selection colormap\n",
    "par.line.colorscale = [[0, 'darkgray'], [1, 'red']]\n",
    "par.line.cmin = 0\n",
    "par.line.cmax = 1\n",
    "par.line.color = np.zeros(df['mpg'].size)\n",
    "\n",
    "bar.marker.line.colorscale = par.line.colorscale\n",
    "bar.marker.line.cmin = 0\n",
    "bar.marker.line.cmax = 1"
   ]
  },
  {
   "cell_type": "code",
   "execution_count": null,
   "metadata": {},
   "outputs": [],
   "source": [
    "# Widgets\n",
    "dd = Dropdown(options=df.columns, description='X', value='mpg')\n",
    "clr_dd = Dropdown(options=numeric_cols, description='Color')\n",
    "\n",
    "def update_col(val):\n",
    "    col = dd.value\n",
    "    clr = clr_dd.value\n",
    "    with f.batch_update():\n",
    "        bar.x = df[col].values\n",
    "        bar.marker.color = df[clr].values\n",
    "        bar.marker.colorbar.title = clr\n",
    "        f.layout.xaxis.title = col\n",
    "\n",
    "dd.observe(update_col, 'value')\n",
    "clr_dd.observe(update_col, 'value')\n",
    "\n",
    "update_col(None)"
   ]
  },
  {
   "cell_type": "markdown",
   "metadata": {},
   "source": [
    "## Display Dashboard\n",
    " - Dropdowns control barchart x-axis feature and coloring feature\n",
    " - Click or select bars to highlight in barchart and parallel coordinate diagram"
   ]
  },
  {
   "cell_type": "code",
   "execution_count": null,
   "metadata": {
    "scrolled": false
   },
   "outputs": [],
   "source": [
    "VBox([f, HBox([dd, clr_dd]), f2])"
   ]
  },
  {
   "cell_type": "code",
   "execution_count": null,
   "metadata": {},
   "outputs": [],
   "source": [
    "# Adjust barchart height\n",
    "f.layout.height = 650"
   ]
  }
 ],
 "metadata": {
  "kernelspec": {
   "display_name": "Python [default]",
   "language": "python",
   "name": "python3"
  },
  "language_info": {
   "codemirror_mode": {
    "name": "ipython",
    "version": 3
   },
   "file_extension": ".py",
   "mimetype": "text/x-python",
   "name": "python",
   "nbconvert_exporter": "python",
   "pygments_lexer": "ipython3",
   "version": "3.6.2"
  }
 },
 "nbformat": 4,
 "nbformat_minor": 2
}
