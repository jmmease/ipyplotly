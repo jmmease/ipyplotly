{
 "cells": [
  {
   "cell_type": "markdown",
   "metadata": {},
   "source": [
    "# Overview\n",
    "This notebook demonstrates how to use DataShader to display large datasets inside an ipyplotly Figure. Change callbacks are used to recompute the datashader image whenever the axis range or figure size changes"
   ]
  },
  {
   "cell_type": "markdown",
   "metadata": {},
   "source": [
    "## Install Datashader"
   ]
  },
  {
   "cell_type": "markdown",
   "metadata": {},
   "source": [
    "`$ conda install datashader -y`"
   ]
  },
  {
   "cell_type": "markdown",
   "metadata": {},
   "source": [
    "## Imports"
   ]
  },
  {
   "cell_type": "code",
   "execution_count": null,
   "metadata": {},
   "outputs": [],
   "source": [
    "# ipyplotly\n",
    "from ipyplotly.datatypes import FigureWidget\n",
    "\n",
    "# core\n",
    "import io\n",
    "import base64 \n",
    "import time\n",
    "\n",
    "# pandas\n",
    "import pandas as pd\n",
    "\n",
    "# numpy\n",
    "import numpy as np\n",
    "\n",
    "# scikit learn\n",
    "from sklearn import datasets\n",
    "\n",
    "# datashader\n",
    "import datashader as ds\n",
    "import datashader.transfer_functions as tf\n",
    "from datashader.colors import inferno"
   ]
  },
  {
   "cell_type": "markdown",
   "metadata": {},
   "source": [
    "## Generate dataset\n",
    "We will create a large dataset by duplicating the Iris dataset many times with random noise"
   ]
  },
  {
   "cell_type": "code",
   "execution_count": null,
   "metadata": {},
   "outputs": [],
   "source": [
    "num_copies = 7000 # 1,050,000 rows\n",
    "\n",
    "iris_data = datasets.load_iris()\n",
    "feature_names = [name.replace(' (cm)', '').replace(' ', '_') for name in iris_data.feature_names]\n",
    "iris_df_orig = pd.DataFrame(iris_data.data, columns=feature_names)\n",
    "target_orig = iris_data.target + 1\n",
    "\n",
    "# frame of features\n",
    "iris_df = pd.concat(\n",
    "    np.random.normal(scale=0.2, size=iris_df_orig.shape) + iris_df_orig for i in range(num_copies)\n",
    ").reset_index(drop=True)\n",
    "\n",
    "# array of targets\n",
    "target = [t for i in range(num_copies) for t in target_orig]\n",
    "\n",
    "# dataframe that includes target as categorical\n",
    "iris_target_df = pd.concat([iris_df, pd.Series(target, name='target', dtype='category')], axis=1)\n",
    "\n",
    "iris_df.describe()"
   ]
  },
  {
   "cell_type": "markdown",
   "metadata": {},
   "source": [
    "## Define DataShader image generation function\n",
    "Define a function that inputs an x/y ranges and the plot width/height and generates a DataShader image of the dataset.  The image will be returned as a PIL image object"
   ]
  },
  {
   "cell_type": "code",
   "execution_count": null,
   "metadata": {},
   "outputs": [],
   "source": [
    "def gen_ds_image(x_range, y_range, plot_width, plot_height):\n",
    "    if x_range is None or y_range is None or plot_width is None or plot_height is None:\n",
    "        return None\n",
    "    \n",
    "    cvs = ds.Canvas(x_range=x_range, y_range=y_range, plot_height=plot_height, plot_width=plot_width)\n",
    "    agg_scatter = cvs.points(iris_target_df, \n",
    "                         'sepal_length', 'sepal_width', \n",
    "                          ds.count_cat('target'))\n",
    "    img = tf.shade(agg_scatter)\n",
    "    img = tf.dynspread(img, threshold=0.95, max_px=5, shape='circle')\n",
    "    \n",
    "    return img.to_pil()"
   ]
  },
  {
   "cell_type": "markdown",
   "metadata": {
    "collapsed": true
   },
   "source": [
    "## Define initial ranges and plot size"
   ]
  },
  {
   "cell_type": "code",
   "execution_count": null,
   "metadata": {},
   "outputs": [],
   "source": [
    "x_range=[3, 10]\n",
    "y_range=[0, 6]\n",
    "plot_height=500\n",
    "plot_width=700"
   ]
  },
  {
   "cell_type": "code",
   "execution_count": null,
   "metadata": {},
   "outputs": [],
   "source": [
    "# Test image generation function and display the PIL image\n",
    "initial_img = gen_ds_image(x_range, y_range, plot_width, plot_height)"
   ]
  },
  {
   "cell_type": "code",
   "execution_count": null,
   "metadata": {},
   "outputs": [],
   "source": [
    "initial_img"
   ]
  },
  {
   "cell_type": "markdown",
   "metadata": {},
   "source": [
    "# Create ipyplotly with background image"
   ]
  },
  {
   "cell_type": "code",
   "execution_count": null,
   "metadata": {
    "scrolled": false
   },
   "outputs": [],
   "source": [
    "f = FigureWidget(data=[{'x': x_range, \n",
    "                    'y': y_range, \n",
    "                    'mode': 'markers',\n",
    "                    'marker': {'opacity': 0}}], # invisible trace to init axes and to support autoresize\n",
    "           layout={'width': plot_width, 'height': plot_height})\n",
    "f"
   ]
  },
  {
   "cell_type": "code",
   "execution_count": null,
   "metadata": {},
   "outputs": [],
   "source": [
    "# Set background image\n",
    "f.layout.images = [dict(\n",
    "    source = initial_img,  # ipyplotly performs auto conversion of PIL image to png data URI\n",
    "    xref = \"x\",\n",
    "    yref = \"y\",\n",
    "    x = x_range[0],\n",
    "    y = y_range[1],\n",
    "    sizex = x_range[1] - x_range[0],\n",
    "    sizey = y_range[1] - y_range[0],\n",
    "    sizing = \"stretch\",\n",
    "    layer = \"below\")]"
   ]
  },
  {
   "cell_type": "markdown",
   "metadata": {},
   "source": [
    "## Install change callback to update image on zoom/resize"
   ]
  },
  {
   "cell_type": "code",
   "execution_count": null,
   "metadata": {},
   "outputs": [],
   "source": [
    "def update_ds_image(layout, x_range, y_range, plot_width, plot_height):\n",
    "    img = f.layout.images[0]\n",
    "    \n",
    "    # Update with batch_update so all updates happen simultaneously\n",
    "    with f.batch_update():\n",
    "        img.x = x_range[0]\n",
    "        img.y = y_range[1]\n",
    "        img.sizex = x_range[1] - x_range[0]\n",
    "        img.sizey = y_range[1] - y_range[0]\n",
    "        img.source = gen_ds_image(x_range, y_range, plot_width, plot_height)\n",
    "\n",
    "# Install callback to run exactly once if one or more of the following properties changes\n",
    "#  - xaxis range\n",
    "#  - yaxis range\n",
    "#  - figure width\n",
    "#  - figure height\n",
    "f.layout.on_change(update_ds_image, ('xaxis', 'range'), ('yaxis', 'range'), 'width', 'height')"
   ]
  },
  {
   "cell_type": "markdown",
   "metadata": {},
   "source": [
    "## Image updates on drag zoom"
   ]
  },
  {
   "cell_type": "code",
   "execution_count": null,
   "metadata": {},
   "outputs": [],
   "source": [
    "f.layout.dragmode = 'zoom'\n",
    "f"
   ]
  },
  {
   "cell_type": "markdown",
   "metadata": {},
   "source": [
    "## Image updates on change axis range"
   ]
  },
  {
   "cell_type": "code",
   "execution_count": null,
   "metadata": {},
   "outputs": [],
   "source": [
    "f.layout.xaxis.range = [3.5, 9]"
   ]
  },
  {
   "cell_type": "markdown",
   "metadata": {},
   "source": [
    "## Image updates on change figure dimensions"
   ]
  },
  {
   "cell_type": "code",
   "execution_count": null,
   "metadata": {},
   "outputs": [],
   "source": [
    "f"
   ]
  },
  {
   "cell_type": "code",
   "execution_count": null,
   "metadata": {},
   "outputs": [],
   "source": [
    "with f.batch_update():\n",
    "    f.layout.width = 1000\n",
    "    f.layout.height = 500    "
   ]
  },
  {
   "cell_type": "markdown",
   "metadata": {},
   "source": [
    "## Export figure to stand-alone html"
   ]
  },
  {
   "cell_type": "code",
   "execution_count": null,
   "metadata": {},
   "outputs": [],
   "source": [
    "f.save_html(filename='exports/background.html')"
   ]
  },
  {
   "cell_type": "markdown",
   "metadata": {},
   "source": [
    "## Export figure to static image"
   ]
  },
  {
   "cell_type": "code",
   "execution_count": null,
   "metadata": {
    "scrolled": false
   },
   "outputs": [],
   "source": [
    "f.save_image('exports/datashader.png')\n",
    "f.save_image('exports/datashader.svg')\n",
    "f.save_image('exports/datashader.pdf')"
   ]
  },
  {
   "cell_type": "code",
   "execution_count": null,
   "metadata": {},
   "outputs": [],
   "source": []
  }
 ],
 "metadata": {
  "kernelspec": {
   "display_name": "Python [default]",
   "language": "python",
   "name": "python3"
  },
  "language_info": {
   "codemirror_mode": {
    "name": "ipython",
    "version": 3
   },
   "file_extension": ".py",
   "mimetype": "text/x-python",
   "name": "python",
   "nbconvert_exporter": "python",
   "pygments_lexer": "ipython3",
   "version": "3.6.2"
  }
 },
 "nbformat": 4,
 "nbformat_minor": 2
}
